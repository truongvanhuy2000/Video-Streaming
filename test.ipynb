{
 "cells": [
  {
   "cell_type": "code",
   "execution_count": 2,
   "metadata": {},
   "outputs": [
    {
     "name": "stdout",
     "output_type": "stream",
     "text": [
      "{'videoserver': {'image': '127.0.0.1:3500/videoserverapp', 'networks': ['cat'], 'env_file': ['videoServerApp/video.env'], 'privileged': True, 'volumes': [{'type': 'volume', 'source': 'nfsvolume', 'target': '/video/', 'volume': {'nocopy': True}}], 'deploy': {'mode': 'replicated', 'replicas': 1, 'placement': {'constraints': ['node.role == worker']}}}}\n",
      "<class 'list'>\n"
     ]
    }
   ],
   "source": [
    "import yaml\n",
    "from yaml import SafeLoader\n",
    "\n",
    "with open('/home/huy/pythonProject/videoStreaming/loadBalancerApp/loadBalancer/dockerClient/config/videoServer.yaml') as f:\n",
    "    config = yaml.load(f, Loader=SafeLoader)\n",
    "    print(config)\n",
    "videoServerConfig = config.get(\"videoserver\")\n",
    "network = videoServerConfig.get('networks')\n",
    "\n",
    "print(type(network))"
   ]
  },
  {
   "cell_type": "code",
   "execution_count": 3,
   "metadata": {},
   "outputs": [
    {
     "name": "stdout",
     "output_type": "stream",
     "text": [
      "{'ID': '3sy2t6skhgpcle5c94sou3tj0', 'Version': {'Index': 1668}, 'CreatedAt': '2023-06-07T09:20:15.680764308Z', 'UpdatedAt': '2023-06-07T10:51:25.522595107Z', 'Spec': {'Labels': {}, 'Role': 'worker', 'Availability': 'active'}, 'Description': {'Hostname': 'vm4', 'Platform': {'Architecture': 'x86_64', 'OS': 'linux'}, 'Resources': {'NanoCPUs': 1000000000, 'MemoryBytes': 2021679104}, 'Engine': {'EngineVersion': '24.0.2', 'Plugins': [{'Type': 'Log', 'Name': 'awslogs'}, {'Type': 'Log', 'Name': 'fluentd'}, {'Type': 'Log', 'Name': 'gcplogs'}, {'Type': 'Log', 'Name': 'gelf'}, {'Type': 'Log', 'Name': 'journald'}, {'Type': 'Log', 'Name': 'json-file'}, {'Type': 'Log', 'Name': 'local'}, {'Type': 'Log', 'Name': 'logentries'}, {'Type': 'Log', 'Name': 'splunk'}, {'Type': 'Log', 'Name': 'syslog'}, {'Type': 'Network', 'Name': 'bridge'}, {'Type': 'Network', 'Name': 'host'}, {'Type': 'Network', 'Name': 'ipvlan'}, {'Type': 'Network', 'Name': 'macvlan'}, {'Type': 'Network', 'Name': 'null'}, {'Type': 'Network', 'Name': 'overlay'}, {'Type': 'Volume', 'Name': 'local'}]}, 'TLSInfo': {'TrustRoot': '-----BEGIN CERTIFICATE-----\\nMIIBajCCARCgAwIBAgIUZsMGkFUyFTG+Zs2AabN5MlXrQa4wCgYIKoZIzj0EAwIw\\nEzERMA8GA1UEAxMIc3dhcm0tY2EwHhcNMjMwNjA3MDkxNTAwWhcNNDMwNjAyMDkx\\nNTAwWjATMREwDwYDVQQDEwhzd2FybS1jYTBZMBMGByqGSM49AgEGCCqGSM49AwEH\\nA0IABO/xUPxAb+KWJFqeJYs5HUOeASk+b1qwe+n70sdlNBtOPvSDTAGOsf+Kb8sx\\nwyUimsluDafSHikQU0DB+FJVv8SjQjBAMA4GA1UdDwEB/wQEAwIBBjAPBgNVHRMB\\nAf8EBTADAQH/MB0GA1UdDgQWBBQrXDmNnpaUmNgOP09dQmigYd4ZsDAKBggqhkjO\\nPQQDAgNIADBFAiEAoekPFN/TQoGtdChMW4GbPA26vpWz8sSkfb1fQluHdBoCIBfq\\ndMUJL1LTPJ6HQtRzLZfiqTU001/rtp0RkFG3msaA\\n-----END CERTIFICATE-----\\n', 'CertIssuerSubject': 'MBMxETAPBgNVBAMTCHN3YXJtLWNh', 'CertIssuerPublicKey': 'MFkwEwYHKoZIzj0CAQYIKoZIzj0DAQcDQgAE7/FQ/EBv4pYkWp4lizkdQ54BKT5vWrB76fvSx2U0G04+9INMAY6x/4pvyzHDJSKayW4Np9IeKRBTQMH4UlW/xA=='}}, 'Status': {'State': 'ready', 'Addr': '192.168.56.23'}}\n",
      "{'ID': 'bo90qimr3i07fiag9o51x63xw', 'Version': {'Index': 1669}, 'CreatedAt': '2023-06-07T09:19:54.447208329Z', 'UpdatedAt': '2023-06-07T10:51:25.557711094Z', 'Spec': {'Labels': {}, 'Role': 'manager', 'Availability': 'active'}, 'Description': {'Hostname': 'vm1', 'Platform': {'Architecture': 'x86_64', 'OS': 'linux'}, 'Resources': {'NanoCPUs': 1000000000, 'MemoryBytes': 2021679104}, 'Engine': {'EngineVersion': '24.0.2', 'Plugins': [{'Type': 'Log', 'Name': 'awslogs'}, {'Type': 'Log', 'Name': 'fluentd'}, {'Type': 'Log', 'Name': 'gcplogs'}, {'Type': 'Log', 'Name': 'gelf'}, {'Type': 'Log', 'Name': 'journald'}, {'Type': 'Log', 'Name': 'json-file'}, {'Type': 'Log', 'Name': 'local'}, {'Type': 'Log', 'Name': 'logentries'}, {'Type': 'Log', 'Name': 'splunk'}, {'Type': 'Log', 'Name': 'syslog'}, {'Type': 'Network', 'Name': 'bridge'}, {'Type': 'Network', 'Name': 'host'}, {'Type': 'Network', 'Name': 'ipvlan'}, {'Type': 'Network', 'Name': 'macvlan'}, {'Type': 'Network', 'Name': 'null'}, {'Type': 'Network', 'Name': 'overlay'}, {'Type': 'Volume', 'Name': 'local'}]}, 'TLSInfo': {'TrustRoot': '-----BEGIN CERTIFICATE-----\\nMIIBajCCARCgAwIBAgIUZsMGkFUyFTG+Zs2AabN5MlXrQa4wCgYIKoZIzj0EAwIw\\nEzERMA8GA1UEAxMIc3dhcm0tY2EwHhcNMjMwNjA3MDkxNTAwWhcNNDMwNjAyMDkx\\nNTAwWjATMREwDwYDVQQDEwhzd2FybS1jYTBZMBMGByqGSM49AgEGCCqGSM49AwEH\\nA0IABO/xUPxAb+KWJFqeJYs5HUOeASk+b1qwe+n70sdlNBtOPvSDTAGOsf+Kb8sx\\nwyUimsluDafSHikQU0DB+FJVv8SjQjBAMA4GA1UdDwEB/wQEAwIBBjAPBgNVHRMB\\nAf8EBTADAQH/MB0GA1UdDgQWBBQrXDmNnpaUmNgOP09dQmigYd4ZsDAKBggqhkjO\\nPQQDAgNIADBFAiEAoekPFN/TQoGtdChMW4GbPA26vpWz8sSkfb1fQluHdBoCIBfq\\ndMUJL1LTPJ6HQtRzLZfiqTU001/rtp0RkFG3msaA\\n-----END CERTIFICATE-----\\n', 'CertIssuerSubject': 'MBMxETAPBgNVBAMTCHN3YXJtLWNh', 'CertIssuerPublicKey': 'MFkwEwYHKoZIzj0CAQYIKoZIzj0DAQcDQgAE7/FQ/EBv4pYkWp4lizkdQ54BKT5vWrB76fvSx2U0G04+9INMAY6x/4pvyzHDJSKayW4Np9IeKRBTQMH4UlW/xA=='}}, 'Status': {'State': 'ready', 'Addr': '192.168.56.20'}, 'ManagerStatus': {'Leader': True, 'Reachability': 'reachable', 'Addr': '192.168.56.20:2377'}}\n",
      "{'ID': 'eycq2b6xque72ygmoebxrf0i5', 'Version': {'Index': 1670}, 'CreatedAt': '2023-06-07T09:20:07.039093413Z', 'UpdatedAt': '2023-06-07T10:51:25.571887879Z', 'Spec': {'Labels': {}, 'Role': 'worker', 'Availability': 'active'}, 'Description': {'Hostname': 'vm2', 'Platform': {'Architecture': 'x86_64', 'OS': 'linux'}, 'Resources': {'NanoCPUs': 1000000000, 'MemoryBytes': 2021679104}, 'Engine': {'EngineVersion': '24.0.2', 'Plugins': [{'Type': 'Log', 'Name': 'awslogs'}, {'Type': 'Log', 'Name': 'fluentd'}, {'Type': 'Log', 'Name': 'gcplogs'}, {'Type': 'Log', 'Name': 'gelf'}, {'Type': 'Log', 'Name': 'journald'}, {'Type': 'Log', 'Name': 'json-file'}, {'Type': 'Log', 'Name': 'local'}, {'Type': 'Log', 'Name': 'logentries'}, {'Type': 'Log', 'Name': 'splunk'}, {'Type': 'Log', 'Name': 'syslog'}, {'Type': 'Network', 'Name': 'bridge'}, {'Type': 'Network', 'Name': 'host'}, {'Type': 'Network', 'Name': 'ipvlan'}, {'Type': 'Network', 'Name': 'macvlan'}, {'Type': 'Network', 'Name': 'null'}, {'Type': 'Network', 'Name': 'overlay'}, {'Type': 'Volume', 'Name': 'local'}]}, 'TLSInfo': {'TrustRoot': '-----BEGIN CERTIFICATE-----\\nMIIBajCCARCgAwIBAgIUZsMGkFUyFTG+Zs2AabN5MlXrQa4wCgYIKoZIzj0EAwIw\\nEzERMA8GA1UEAxMIc3dhcm0tY2EwHhcNMjMwNjA3MDkxNTAwWhcNNDMwNjAyMDkx\\nNTAwWjATMREwDwYDVQQDEwhzd2FybS1jYTBZMBMGByqGSM49AgEGCCqGSM49AwEH\\nA0IABO/xUPxAb+KWJFqeJYs5HUOeASk+b1qwe+n70sdlNBtOPvSDTAGOsf+Kb8sx\\nwyUimsluDafSHikQU0DB+FJVv8SjQjBAMA4GA1UdDwEB/wQEAwIBBjAPBgNVHRMB\\nAf8EBTADAQH/MB0GA1UdDgQWBBQrXDmNnpaUmNgOP09dQmigYd4ZsDAKBggqhkjO\\nPQQDAgNIADBFAiEAoekPFN/TQoGtdChMW4GbPA26vpWz8sSkfb1fQluHdBoCIBfq\\ndMUJL1LTPJ6HQtRzLZfiqTU001/rtp0RkFG3msaA\\n-----END CERTIFICATE-----\\n', 'CertIssuerSubject': 'MBMxETAPBgNVBAMTCHN3YXJtLWNh', 'CertIssuerPublicKey': 'MFkwEwYHKoZIzj0CAQYIKoZIzj0DAQcDQgAE7/FQ/EBv4pYkWp4lizkdQ54BKT5vWrB76fvSx2U0G04+9INMAY6x/4pvyzHDJSKayW4Np9IeKRBTQMH4UlW/xA=='}}, 'Status': {'State': 'ready', 'Addr': '192.168.56.21'}}\n",
      "{'ID': 'tfzvcht8iwxcj8oge2smatofm', 'Version': {'Index': 1758}, 'CreatedAt': '2023-06-07T09:20:11.734446755Z', 'UpdatedAt': '2023-06-07T11:23:03.758101277Z', 'Spec': {'Labels': {}, 'Role': 'worker', 'Availability': 'active'}, 'Description': {'Hostname': 'vm3', 'Platform': {'Architecture': 'x86_64', 'OS': 'linux'}, 'Resources': {'NanoCPUs': 1000000000, 'MemoryBytes': 2021679104}, 'Engine': {'EngineVersion': '24.0.2', 'Plugins': [{'Type': 'Log', 'Name': 'awslogs'}, {'Type': 'Log', 'Name': 'fluentd'}, {'Type': 'Log', 'Name': 'gcplogs'}, {'Type': 'Log', 'Name': 'gelf'}, {'Type': 'Log', 'Name': 'journald'}, {'Type': 'Log', 'Name': 'json-file'}, {'Type': 'Log', 'Name': 'local'}, {'Type': 'Log', 'Name': 'logentries'}, {'Type': 'Log', 'Name': 'splunk'}, {'Type': 'Log', 'Name': 'syslog'}, {'Type': 'Network', 'Name': 'bridge'}, {'Type': 'Network', 'Name': 'host'}, {'Type': 'Network', 'Name': 'ipvlan'}, {'Type': 'Network', 'Name': 'macvlan'}, {'Type': 'Network', 'Name': 'null'}, {'Type': 'Network', 'Name': 'overlay'}, {'Type': 'Volume', 'Name': 'local'}]}, 'TLSInfo': {'TrustRoot': '-----BEGIN CERTIFICATE-----\\nMIIBajCCARCgAwIBAgIUZsMGkFUyFTG+Zs2AabN5MlXrQa4wCgYIKoZIzj0EAwIw\\nEzERMA8GA1UEAxMIc3dhcm0tY2EwHhcNMjMwNjA3MDkxNTAwWhcNNDMwNjAyMDkx\\nNTAwWjATMREwDwYDVQQDEwhzd2FybS1jYTBZMBMGByqGSM49AgEGCCqGSM49AwEH\\nA0IABO/xUPxAb+KWJFqeJYs5HUOeASk+b1qwe+n70sdlNBtOPvSDTAGOsf+Kb8sx\\nwyUimsluDafSHikQU0DB+FJVv8SjQjBAMA4GA1UdDwEB/wQEAwIBBjAPBgNVHRMB\\nAf8EBTADAQH/MB0GA1UdDgQWBBQrXDmNnpaUmNgOP09dQmigYd4ZsDAKBggqhkjO\\nPQQDAgNIADBFAiEAoekPFN/TQoGtdChMW4GbPA26vpWz8sSkfb1fQluHdBoCIBfq\\ndMUJL1LTPJ6HQtRzLZfiqTU001/rtp0RkFG3msaA\\n-----END CERTIFICATE-----\\n', 'CertIssuerSubject': 'MBMxETAPBgNVBAMTCHN3YXJtLWNh', 'CertIssuerPublicKey': 'MFkwEwYHKoZIzj0CAQYIKoZIzj0DAQcDQgAE7/FQ/EBv4pYkWp4lizkdQ54BKT5vWrB76fvSx2U0G04+9INMAY6x/4pvyzHDJSKayW4Np9IeKRBTQMH4UlW/xA=='}}, 'Status': {'State': 'ready', 'Addr': '192.168.56.22'}}\n"
     ]
    }
   ],
   "source": [
    "import docker\n",
    "\n",
    "client = docker.DockerClient(base_url='192.168.56.20:2375')\n",
    "\n",
    "nodeList = client.nodes.list()\n",
    "\n",
    "for node in nodeList:\n",
    "    print(node.attrs)\n"
   ]
  },
  {
   "cell_type": "code",
   "execution_count": 15,
   "metadata": {},
   "outputs": [
    {
     "name": "stderr",
     "output_type": "stream",
     "text": [
      "ERROR:root:dau ma may\n"
     ]
    }
   ],
   "source": [
    "import logging\n",
    "\n",
    "logging.error(\"dau ma may\")"
   ]
  },
  {
   "cell_type": "code",
   "execution_count": 11,
   "metadata": {},
   "outputs": [
    {
     "name": "stdout",
     "output_type": "stream",
     "text": [
      "{'ID': 'vw9466ppgd32raynurd3let86', 'Version': {'Index': 1834}, 'CreatedAt': '2023-06-08T02:24:34.390375589Z', 'UpdatedAt': '2023-06-08T02:24:34.399547741Z', 'Spec': {'Name': 'admiring_jemison', 'Labels': {}, 'TaskTemplate': {'ContainerSpec': {'Image': '127.0.0.1:3500/videoserverapp', 'Env': ['TRANSPORT_METHOD=GRPC'], 'Mounts': [{'Type': 'volume', 'Source': 'nfsvolume', 'Target': '/video', 'ReadOnly': True}], 'Isolation': 'default'}, 'Placement': {'Constraints': ['node.id==3sy2t6skhgpcle5c94sou3tj0']}, 'Networks': [{'Target': '034y39h5led5vkryahpw440sl'}], 'ForceUpdate': 0, 'Runtime': 'container'}, 'Mode': {'Replicated': {'Replicas': 1}}}, 'Endpoint': {'Spec': {}, 'VirtualIPs': [{'NetworkID': '034y39h5led5vkryahpw440sl', 'Addr': '10.0.5.18/24'}]}}\n"
     ]
    }
   ],
   "source": [
    "import docker\n",
    "\n",
    "client = docker.DockerClient(base_url='192.168.56.20:2375')\n",
    "\n",
    "\n"
   ]
  },
  {
   "cell_type": "code",
   "execution_count": 13,
   "metadata": {},
   "outputs": [],
   "source": [
    "from docker.types import Privileges\n",
    "\n",
    "service = client.services.create(image='127.0.0.1:3500/videoserverapp',\n",
    "                                 mounts=[\"nfsvolume:/video/:ro\"],\n",
    "                                 env=[\"TRANSPORT_METHOD=GRPC\"],\n",
    "                                constraints=[\"node.id==3sy2t6skhgpcle5c94sou3tj0\"],\n",
    "                                networks=['cat'])"
   ]
  },
  {
   "cell_type": "code",
   "execution_count": 14,
   "metadata": {},
   "outputs": [
    {
     "name": "stdout",
     "output_type": "stream",
     "text": [
      "great_pare\n"
     ]
    }
   ],
   "source": [
    "service = client.services.get(service.id)\n",
    "\n",
    "print(service.name)"
   ]
  }
 ],
 "metadata": {
  "kernelspec": {
   "display_name": "Python 3",
   "language": "python",
   "name": "python3"
  },
  "language_info": {
   "codemirror_mode": {
    "name": "ipython",
    "version": 3
   },
   "file_extension": ".py",
   "mimetype": "text/x-python",
   "name": "python",
   "nbconvert_exporter": "python",
   "pygments_lexer": "ipython3",
   "version": "3.10.6"
  },
  "orig_nbformat": 4
 },
 "nbformat": 4,
 "nbformat_minor": 2
}
