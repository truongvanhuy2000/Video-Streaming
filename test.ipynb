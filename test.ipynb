{
 "cells": [
  {
   "cell_type": "code",
   "execution_count": 2,
   "metadata": {},
   "outputs": [
    {
     "name": "stdout",
     "output_type": "stream",
     "text": [
      "{'videoserver': {'image': '127.0.0.1:3500/videoserverapp', 'networks': ['cat'], 'env_file': ['videoServerApp/video.env'], 'privileged': True, 'volumes': [{'type': 'volume', 'source': 'nfsvolume', 'target': '/video/', 'volume': {'nocopy': True}}], 'deploy': {'mode': 'replicated', 'replicas': 1, 'placement': {'constraints': ['node.role == worker']}}}}\n",
      "<class 'list'>\n"
     ]
    }
   ],
   "source": [
    "import yaml\n",
    "from yaml import SafeLoader\n",
    "\n",
    "with open('/home/huy/pythonProject/videoStreaming/loadBalancerApp/loadBalancer/dockerClient/config/videoServer.yaml') as f:\n",
    "    config = yaml.load(f, Loader=SafeLoader)\n",
    "    print(config)\n",
    "videoServerConfig = config.get(\"videoserver\")\n",
    "network = videoServerConfig.get('networks')\n",
    "\n",
    "print(type(network))"
   ]
  },
  {
   "cell_type": "code",
   "execution_count": 39,
   "metadata": {},
   "outputs": [
    {
     "name": "stdout",
     "output_type": "stream",
     "text": [
      "{'ID': '3sy2t6skhgpcle5c94sou3tj0', 'Version': {'Index': 190}, 'CreatedAt': '2023-06-07T09:20:15.680764308Z', 'UpdatedAt': '2023-06-07T09:32:38.704423386Z', 'Spec': {'Labels': {}, 'Role': 'worker', 'Availability': 'active'}, 'Description': {'Hostname': 'vm4', 'Platform': {'Architecture': 'x86_64', 'OS': 'linux'}, 'Resources': {'NanoCPUs': 1000000000, 'MemoryBytes': 2021679104}, 'Engine': {'EngineVersion': '24.0.2', 'Plugins': [{'Type': 'Log', 'Name': 'awslogs'}, {'Type': 'Log', 'Name': 'fluentd'}, {'Type': 'Log', 'Name': 'gcplogs'}, {'Type': 'Log', 'Name': 'gelf'}, {'Type': 'Log', 'Name': 'journald'}, {'Type': 'Log', 'Name': 'json-file'}, {'Type': 'Log', 'Name': 'local'}, {'Type': 'Log', 'Name': 'logentries'}, {'Type': 'Log', 'Name': 'splunk'}, {'Type': 'Log', 'Name': 'syslog'}, {'Type': 'Network', 'Name': 'bridge'}, {'Type': 'Network', 'Name': 'host'}, {'Type': 'Network', 'Name': 'ipvlan'}, {'Type': 'Network', 'Name': 'macvlan'}, {'Type': 'Network', 'Name': 'null'}, {'Type': 'Network', 'Name': 'overlay'}, {'Type': 'Volume', 'Name': 'local'}]}, 'TLSInfo': {'TrustRoot': '-----BEGIN CERTIFICATE-----\\nMIIBajCCARCgAwIBAgIUZsMGkFUyFTG+Zs2AabN5MlXrQa4wCgYIKoZIzj0EAwIw\\nEzERMA8GA1UEAxMIc3dhcm0tY2EwHhcNMjMwNjA3MDkxNTAwWhcNNDMwNjAyMDkx\\nNTAwWjATMREwDwYDVQQDEwhzd2FybS1jYTBZMBMGByqGSM49AgEGCCqGSM49AwEH\\nA0IABO/xUPxAb+KWJFqeJYs5HUOeASk+b1qwe+n70sdlNBtOPvSDTAGOsf+Kb8sx\\nwyUimsluDafSHikQU0DB+FJVv8SjQjBAMA4GA1UdDwEB/wQEAwIBBjAPBgNVHRMB\\nAf8EBTADAQH/MB0GA1UdDgQWBBQrXDmNnpaUmNgOP09dQmigYd4ZsDAKBggqhkjO\\nPQQDAgNIADBFAiEAoekPFN/TQoGtdChMW4GbPA26vpWz8sSkfb1fQluHdBoCIBfq\\ndMUJL1LTPJ6HQtRzLZfiqTU001/rtp0RkFG3msaA\\n-----END CERTIFICATE-----\\n', 'CertIssuerSubject': 'MBMxETAPBgNVBAMTCHN3YXJtLWNh', 'CertIssuerPublicKey': 'MFkwEwYHKoZIzj0CAQYIKoZIzj0DAQcDQgAE7/FQ/EBv4pYkWp4lizkdQ54BKT5vWrB76fvSx2U0G04+9INMAY6x/4pvyzHDJSKayW4Np9IeKRBTQMH4UlW/xA=='}}, 'Status': {'State': 'ready', 'Addr': '192.168.56.23'}}\n",
      "{'ID': 'bo90qimr3i07fiag9o51x63xw', 'Version': {'Index': 164}, 'CreatedAt': '2023-06-07T09:19:54.447208329Z', 'UpdatedAt': '2023-06-07T09:32:34.96093502Z', 'Spec': {'Labels': {}, 'Role': 'manager', 'Availability': 'active'}, 'Description': {'Hostname': 'vm1', 'Platform': {'Architecture': 'x86_64', 'OS': 'linux'}, 'Resources': {'NanoCPUs': 1000000000, 'MemoryBytes': 2021679104}, 'Engine': {'EngineVersion': '24.0.2', 'Plugins': [{'Type': 'Log', 'Name': 'awslogs'}, {'Type': 'Log', 'Name': 'fluentd'}, {'Type': 'Log', 'Name': 'gcplogs'}, {'Type': 'Log', 'Name': 'gelf'}, {'Type': 'Log', 'Name': 'journald'}, {'Type': 'Log', 'Name': 'json-file'}, {'Type': 'Log', 'Name': 'local'}, {'Type': 'Log', 'Name': 'logentries'}, {'Type': 'Log', 'Name': 'splunk'}, {'Type': 'Log', 'Name': 'syslog'}, {'Type': 'Network', 'Name': 'bridge'}, {'Type': 'Network', 'Name': 'host'}, {'Type': 'Network', 'Name': 'ipvlan'}, {'Type': 'Network', 'Name': 'macvlan'}, {'Type': 'Network', 'Name': 'null'}, {'Type': 'Network', 'Name': 'overlay'}, {'Type': 'Volume', 'Name': 'local'}]}, 'TLSInfo': {'TrustRoot': '-----BEGIN CERTIFICATE-----\\nMIIBajCCARCgAwIBAgIUZsMGkFUyFTG+Zs2AabN5MlXrQa4wCgYIKoZIzj0EAwIw\\nEzERMA8GA1UEAxMIc3dhcm0tY2EwHhcNMjMwNjA3MDkxNTAwWhcNNDMwNjAyMDkx\\nNTAwWjATMREwDwYDVQQDEwhzd2FybS1jYTBZMBMGByqGSM49AgEGCCqGSM49AwEH\\nA0IABO/xUPxAb+KWJFqeJYs5HUOeASk+b1qwe+n70sdlNBtOPvSDTAGOsf+Kb8sx\\nwyUimsluDafSHikQU0DB+FJVv8SjQjBAMA4GA1UdDwEB/wQEAwIBBjAPBgNVHRMB\\nAf8EBTADAQH/MB0GA1UdDgQWBBQrXDmNnpaUmNgOP09dQmigYd4ZsDAKBggqhkjO\\nPQQDAgNIADBFAiEAoekPFN/TQoGtdChMW4GbPA26vpWz8sSkfb1fQluHdBoCIBfq\\ndMUJL1LTPJ6HQtRzLZfiqTU001/rtp0RkFG3msaA\\n-----END CERTIFICATE-----\\n', 'CertIssuerSubject': 'MBMxETAPBgNVBAMTCHN3YXJtLWNh', 'CertIssuerPublicKey': 'MFkwEwYHKoZIzj0CAQYIKoZIzj0DAQcDQgAE7/FQ/EBv4pYkWp4lizkdQ54BKT5vWrB76fvSx2U0G04+9INMAY6x/4pvyzHDJSKayW4Np9IeKRBTQMH4UlW/xA=='}}, 'Status': {'State': 'ready', 'Addr': '192.168.56.20'}, 'ManagerStatus': {'Leader': True, 'Reachability': 'reachable', 'Addr': '192.168.56.20:2377'}}\n",
      "{'ID': 'eycq2b6xque72ygmoebxrf0i5', 'Version': {'Index': 165}, 'CreatedAt': '2023-06-07T09:20:07.039093413Z', 'UpdatedAt': '2023-06-07T09:32:34.96561587Z', 'Spec': {'Labels': {}, 'Role': 'worker', 'Availability': 'active'}, 'Description': {'Hostname': 'vm2', 'Platform': {'Architecture': 'x86_64', 'OS': 'linux'}, 'Resources': {'NanoCPUs': 1000000000, 'MemoryBytes': 2021679104}, 'Engine': {'EngineVersion': '24.0.2', 'Plugins': [{'Type': 'Log', 'Name': 'awslogs'}, {'Type': 'Log', 'Name': 'fluentd'}, {'Type': 'Log', 'Name': 'gcplogs'}, {'Type': 'Log', 'Name': 'gelf'}, {'Type': 'Log', 'Name': 'journald'}, {'Type': 'Log', 'Name': 'json-file'}, {'Type': 'Log', 'Name': 'local'}, {'Type': 'Log', 'Name': 'logentries'}, {'Type': 'Log', 'Name': 'splunk'}, {'Type': 'Log', 'Name': 'syslog'}, {'Type': 'Network', 'Name': 'bridge'}, {'Type': 'Network', 'Name': 'host'}, {'Type': 'Network', 'Name': 'ipvlan'}, {'Type': 'Network', 'Name': 'macvlan'}, {'Type': 'Network', 'Name': 'null'}, {'Type': 'Network', 'Name': 'overlay'}, {'Type': 'Volume', 'Name': 'local'}]}, 'TLSInfo': {'TrustRoot': '-----BEGIN CERTIFICATE-----\\nMIIBajCCARCgAwIBAgIUZsMGkFUyFTG+Zs2AabN5MlXrQa4wCgYIKoZIzj0EAwIw\\nEzERMA8GA1UEAxMIc3dhcm0tY2EwHhcNMjMwNjA3MDkxNTAwWhcNNDMwNjAyMDkx\\nNTAwWjATMREwDwYDVQQDEwhzd2FybS1jYTBZMBMGByqGSM49AgEGCCqGSM49AwEH\\nA0IABO/xUPxAb+KWJFqeJYs5HUOeASk+b1qwe+n70sdlNBtOPvSDTAGOsf+Kb8sx\\nwyUimsluDafSHikQU0DB+FJVv8SjQjBAMA4GA1UdDwEB/wQEAwIBBjAPBgNVHRMB\\nAf8EBTADAQH/MB0GA1UdDgQWBBQrXDmNnpaUmNgOP09dQmigYd4ZsDAKBggqhkjO\\nPQQDAgNIADBFAiEAoekPFN/TQoGtdChMW4GbPA26vpWz8sSkfb1fQluHdBoCIBfq\\ndMUJL1LTPJ6HQtRzLZfiqTU001/rtp0RkFG3msaA\\n-----END CERTIFICATE-----\\n', 'CertIssuerSubject': 'MBMxETAPBgNVBAMTCHN3YXJtLWNh', 'CertIssuerPublicKey': 'MFkwEwYHKoZIzj0CAQYIKoZIzj0DAQcDQgAE7/FQ/EBv4pYkWp4lizkdQ54BKT5vWrB76fvSx2U0G04+9INMAY6x/4pvyzHDJSKayW4Np9IeKRBTQMH4UlW/xA=='}}, 'Status': {'State': 'ready', 'Addr': '192.168.56.21'}}\n",
      "{'ID': 'tfzvcht8iwxcj8oge2smatofm', 'Version': {'Index': 189}, 'CreatedAt': '2023-06-07T09:20:11.734446755Z', 'UpdatedAt': '2023-06-07T09:32:38.701119059Z', 'Spec': {'Labels': {}, 'Role': 'worker', 'Availability': 'active'}, 'Description': {'Hostname': 'vm3', 'Platform': {'Architecture': 'x86_64', 'OS': 'linux'}, 'Resources': {'NanoCPUs': 1000000000, 'MemoryBytes': 2021679104}, 'Engine': {'EngineVersion': '24.0.2', 'Plugins': [{'Type': 'Log', 'Name': 'awslogs'}, {'Type': 'Log', 'Name': 'fluentd'}, {'Type': 'Log', 'Name': 'gcplogs'}, {'Type': 'Log', 'Name': 'gelf'}, {'Type': 'Log', 'Name': 'journald'}, {'Type': 'Log', 'Name': 'json-file'}, {'Type': 'Log', 'Name': 'local'}, {'Type': 'Log', 'Name': 'logentries'}, {'Type': 'Log', 'Name': 'splunk'}, {'Type': 'Log', 'Name': 'syslog'}, {'Type': 'Network', 'Name': 'bridge'}, {'Type': 'Network', 'Name': 'host'}, {'Type': 'Network', 'Name': 'ipvlan'}, {'Type': 'Network', 'Name': 'macvlan'}, {'Type': 'Network', 'Name': 'null'}, {'Type': 'Network', 'Name': 'overlay'}, {'Type': 'Volume', 'Name': 'local'}]}, 'TLSInfo': {'TrustRoot': '-----BEGIN CERTIFICATE-----\\nMIIBajCCARCgAwIBAgIUZsMGkFUyFTG+Zs2AabN5MlXrQa4wCgYIKoZIzj0EAwIw\\nEzERMA8GA1UEAxMIc3dhcm0tY2EwHhcNMjMwNjA3MDkxNTAwWhcNNDMwNjAyMDkx\\nNTAwWjATMREwDwYDVQQDEwhzd2FybS1jYTBZMBMGByqGSM49AgEGCCqGSM49AwEH\\nA0IABO/xUPxAb+KWJFqeJYs5HUOeASk+b1qwe+n70sdlNBtOPvSDTAGOsf+Kb8sx\\nwyUimsluDafSHikQU0DB+FJVv8SjQjBAMA4GA1UdDwEB/wQEAwIBBjAPBgNVHRMB\\nAf8EBTADAQH/MB0GA1UdDgQWBBQrXDmNnpaUmNgOP09dQmigYd4ZsDAKBggqhkjO\\nPQQDAgNIADBFAiEAoekPFN/TQoGtdChMW4GbPA26vpWz8sSkfb1fQluHdBoCIBfq\\ndMUJL1LTPJ6HQtRzLZfiqTU001/rtp0RkFG3msaA\\n-----END CERTIFICATE-----\\n', 'CertIssuerSubject': 'MBMxETAPBgNVBAMTCHN3YXJtLWNh', 'CertIssuerPublicKey': 'MFkwEwYHKoZIzj0CAQYIKoZIzj0DAQcDQgAE7/FQ/EBv4pYkWp4lizkdQ54BKT5vWrB76fvSx2U0G04+9INMAY6x/4pvyzHDJSKayW4Np9IeKRBTQMH4UlW/xA=='}}, 'Status': {'State': 'ready', 'Addr': '192.168.56.22'}}\n"
     ]
    }
   ],
   "source": [
    "import docker\n",
    "\n",
    "client = docker.DockerClient(base_url='192.168.56.20:2375')\n",
    "\n",
    "nodeList = client.nodes.list()\n",
    "\n",
    "for node in nodeList:\n",
    "    print(node.attrs)\n"
   ]
  },
  {
   "cell_type": "code",
   "execution_count": 34,
   "metadata": {},
   "outputs": [
    {
     "ename": "NotFound",
     "evalue": "404 Client Error for http://192.168.56.20:2375/v1.43/services/aca5guvj22d6rezn7965tphc7: Not Found (\"service aca5guvj22d6rezn7965tphc7 not found\")",
     "output_type": "error",
     "traceback": [
      "\u001b[0;31m---------------------------------------------------------------------------\u001b[0m",
      "\u001b[0;31mHTTPError\u001b[0m                                 Traceback (most recent call last)",
      "File \u001b[0;32m~/.local/lib/python3.10/site-packages/docker/api/client.py:268\u001b[0m, in \u001b[0;36mAPIClient._raise_for_status\u001b[0;34m(self, response)\u001b[0m\n\u001b[1;32m    267\u001b[0m \u001b[39mtry\u001b[39;00m:\n\u001b[0;32m--> 268\u001b[0m     response\u001b[39m.\u001b[39;49mraise_for_status()\n\u001b[1;32m    269\u001b[0m \u001b[39mexcept\u001b[39;00m requests\u001b[39m.\u001b[39mexceptions\u001b[39m.\u001b[39mHTTPError \u001b[39mas\u001b[39;00m e:\n",
      "File \u001b[0;32m~/.local/lib/python3.10/site-packages/requests/models.py:1021\u001b[0m, in \u001b[0;36mResponse.raise_for_status\u001b[0;34m(self)\u001b[0m\n\u001b[1;32m   1020\u001b[0m \u001b[39mif\u001b[39;00m http_error_msg:\n\u001b[0;32m-> 1021\u001b[0m     \u001b[39mraise\u001b[39;00m HTTPError(http_error_msg, response\u001b[39m=\u001b[39m\u001b[39mself\u001b[39m)\n",
      "\u001b[0;31mHTTPError\u001b[0m: 404 Client Error: Not Found for url: http://192.168.56.20:2375/v1.43/services/aca5guvj22d6rezn7965tphc7",
      "\nThe above exception was the direct cause of the following exception:\n",
      "\u001b[0;31mNotFound\u001b[0m                                  Traceback (most recent call last)",
      "Cell \u001b[0;32mIn[34], line 5\u001b[0m\n\u001b[1;32m      1\u001b[0m \u001b[39mimport\u001b[39;00m \u001b[39mdocker\u001b[39;00m\n\u001b[1;32m      3\u001b[0m client \u001b[39m=\u001b[39m docker\u001b[39m.\u001b[39mDockerClient(base_url\u001b[39m=\u001b[39m\u001b[39m'\u001b[39m\u001b[39m192.168.56.20:2375\u001b[39m\u001b[39m'\u001b[39m)\n\u001b[0;32m----> 5\u001b[0m service \u001b[39m=\u001b[39m client\u001b[39m.\u001b[39;49mservices\u001b[39m.\u001b[39;49mget(\u001b[39m'\u001b[39;49m\u001b[39maca5guvj22d6rezn7965tphc7\u001b[39;49m\u001b[39m'\u001b[39;49m)\n\u001b[1;32m      7\u001b[0m \u001b[39mprint\u001b[39m(service\u001b[39m.\u001b[39mattrs)\n",
      "File \u001b[0;32m~/.local/lib/python3.10/site-packages/docker/models/services.py:258\u001b[0m, in \u001b[0;36mServiceCollection.get\u001b[0;34m(self, service_id, insert_defaults)\u001b[0m\n\u001b[1;32m    236\u001b[0m \u001b[39mdef\u001b[39;00m \u001b[39mget\u001b[39m(\u001b[39mself\u001b[39m, service_id, insert_defaults\u001b[39m=\u001b[39m\u001b[39mNone\u001b[39;00m):\n\u001b[1;32m    237\u001b[0m \u001b[39m    \u001b[39m\u001b[39m\"\"\"\u001b[39;00m\n\u001b[1;32m    238\u001b[0m \u001b[39m    Get a service.\u001b[39;00m\n\u001b[1;32m    239\u001b[0m \n\u001b[0;32m   (...)\u001b[0m\n\u001b[1;32m    255\u001b[0m \u001b[39m            API version.\u001b[39;00m\n\u001b[1;32m    256\u001b[0m \u001b[39m    \"\"\"\u001b[39;00m\n\u001b[1;32m    257\u001b[0m     \u001b[39mreturn\u001b[39;00m \u001b[39mself\u001b[39m\u001b[39m.\u001b[39mprepare_model(\n\u001b[0;32m--> 258\u001b[0m         \u001b[39mself\u001b[39;49m\u001b[39m.\u001b[39;49mclient\u001b[39m.\u001b[39;49mapi\u001b[39m.\u001b[39;49minspect_service(service_id, insert_defaults)\n\u001b[1;32m    259\u001b[0m     )\n",
      "File \u001b[0;32m~/.local/lib/python3.10/site-packages/docker/utils/decorators.py:34\u001b[0m, in \u001b[0;36mminimum_version.<locals>.decorator.<locals>.wrapper\u001b[0;34m(self, *args, **kwargs)\u001b[0m\n\u001b[1;32m     28\u001b[0m \u001b[39mif\u001b[39;00m utils\u001b[39m.\u001b[39mversion_lt(\u001b[39mself\u001b[39m\u001b[39m.\u001b[39m_version, version):\n\u001b[1;32m     29\u001b[0m     \u001b[39mraise\u001b[39;00m errors\u001b[39m.\u001b[39mInvalidVersion(\n\u001b[1;32m     30\u001b[0m         \u001b[39m'\u001b[39m\u001b[39m{}\u001b[39;00m\u001b[39m is not available for version < \u001b[39m\u001b[39m{}\u001b[39;00m\u001b[39m'\u001b[39m\u001b[39m.\u001b[39mformat(\n\u001b[1;32m     31\u001b[0m             f\u001b[39m.\u001b[39m\u001b[39m__name__\u001b[39m, version\n\u001b[1;32m     32\u001b[0m         )\n\u001b[1;32m     33\u001b[0m     )\n\u001b[0;32m---> 34\u001b[0m \u001b[39mreturn\u001b[39;00m f(\u001b[39mself\u001b[39;49m, \u001b[39m*\u001b[39;49margs, \u001b[39m*\u001b[39;49m\u001b[39m*\u001b[39;49mkwargs)\n",
      "File \u001b[0;32m~/.local/lib/python3.10/site-packages/docker/utils/decorators.py:19\u001b[0m, in \u001b[0;36mcheck_resource.<locals>.decorator.<locals>.wrapped\u001b[0;34m(self, resource_id, *args, **kwargs)\u001b[0m\n\u001b[1;32m     15\u001b[0m \u001b[39mif\u001b[39;00m \u001b[39mnot\u001b[39;00m resource_id:\n\u001b[1;32m     16\u001b[0m     \u001b[39mraise\u001b[39;00m errors\u001b[39m.\u001b[39mNullResource(\n\u001b[1;32m     17\u001b[0m         \u001b[39m'\u001b[39m\u001b[39mResource ID was not provided\u001b[39m\u001b[39m'\u001b[39m\n\u001b[1;32m     18\u001b[0m     )\n\u001b[0;32m---> 19\u001b[0m \u001b[39mreturn\u001b[39;00m f(\u001b[39mself\u001b[39;49m, resource_id, \u001b[39m*\u001b[39;49margs, \u001b[39m*\u001b[39;49m\u001b[39m*\u001b[39;49mkwargs)\n",
      "File \u001b[0;32m~/.local/lib/python3.10/site-packages/docker/api/service.py:221\u001b[0m, in \u001b[0;36mServiceApiMixin.inspect_service\u001b[0;34m(self, service, insert_defaults)\u001b[0m\n\u001b[1;32m    216\u001b[0m         \u001b[39mraise\u001b[39;00m errors\u001b[39m.\u001b[39mInvalidVersion(\n\u001b[1;32m    217\u001b[0m             \u001b[39m'\u001b[39m\u001b[39minsert_defaults is not supported in API version < 1.29\u001b[39m\u001b[39m'\u001b[39m\n\u001b[1;32m    218\u001b[0m         )\n\u001b[1;32m    219\u001b[0m     params[\u001b[39m'\u001b[39m\u001b[39minsertDefaults\u001b[39m\u001b[39m'\u001b[39m] \u001b[39m=\u001b[39m insert_defaults\n\u001b[0;32m--> 221\u001b[0m \u001b[39mreturn\u001b[39;00m \u001b[39mself\u001b[39;49m\u001b[39m.\u001b[39;49m_result(\u001b[39mself\u001b[39;49m\u001b[39m.\u001b[39;49m_get(url, params\u001b[39m=\u001b[39;49mparams), \u001b[39mTrue\u001b[39;49;00m)\n",
      "File \u001b[0;32m~/.local/lib/python3.10/site-packages/docker/api/client.py:274\u001b[0m, in \u001b[0;36mAPIClient._result\u001b[0;34m(self, response, json, binary)\u001b[0m\n\u001b[1;32m    272\u001b[0m \u001b[39mdef\u001b[39;00m \u001b[39m_result\u001b[39m(\u001b[39mself\u001b[39m, response, json\u001b[39m=\u001b[39m\u001b[39mFalse\u001b[39;00m, binary\u001b[39m=\u001b[39m\u001b[39mFalse\u001b[39;00m):\n\u001b[1;32m    273\u001b[0m     \u001b[39massert\u001b[39;00m \u001b[39mnot\u001b[39;00m (json \u001b[39mand\u001b[39;00m binary)\n\u001b[0;32m--> 274\u001b[0m     \u001b[39mself\u001b[39;49m\u001b[39m.\u001b[39;49m_raise_for_status(response)\n\u001b[1;32m    276\u001b[0m     \u001b[39mif\u001b[39;00m json:\n\u001b[1;32m    277\u001b[0m         \u001b[39mreturn\u001b[39;00m response\u001b[39m.\u001b[39mjson()\n",
      "File \u001b[0;32m~/.local/lib/python3.10/site-packages/docker/api/client.py:270\u001b[0m, in \u001b[0;36mAPIClient._raise_for_status\u001b[0;34m(self, response)\u001b[0m\n\u001b[1;32m    268\u001b[0m     response\u001b[39m.\u001b[39mraise_for_status()\n\u001b[1;32m    269\u001b[0m \u001b[39mexcept\u001b[39;00m requests\u001b[39m.\u001b[39mexceptions\u001b[39m.\u001b[39mHTTPError \u001b[39mas\u001b[39;00m e:\n\u001b[0;32m--> 270\u001b[0m     \u001b[39mraise\u001b[39;00m create_api_error_from_http_exception(e) \u001b[39mfrom\u001b[39;00m \u001b[39me\u001b[39;00m\n",
      "File \u001b[0;32m~/.local/lib/python3.10/site-packages/docker/errors.py:39\u001b[0m, in \u001b[0;36mcreate_api_error_from_http_exception\u001b[0;34m(e)\u001b[0m\n\u001b[1;32m     37\u001b[0m     \u001b[39melse\u001b[39;00m:\n\u001b[1;32m     38\u001b[0m         \u001b[39mcls\u001b[39m \u001b[39m=\u001b[39m NotFound\n\u001b[0;32m---> 39\u001b[0m \u001b[39mraise\u001b[39;00m \u001b[39mcls\u001b[39m(e, response\u001b[39m=\u001b[39mresponse, explanation\u001b[39m=\u001b[39mexplanation) \u001b[39mfrom\u001b[39;00m \u001b[39me\u001b[39;00m\n",
      "\u001b[0;31mNotFound\u001b[0m: 404 Client Error for http://192.168.56.20:2375/v1.43/services/aca5guvj22d6rezn7965tphc7: Not Found (\"service aca5guvj22d6rezn7965tphc7 not found\")"
     ]
    }
   ],
   "source": [
    "import docker\n",
    "\n",
    "client = docker.DockerClient(base_url='192.168.56.20:2375')\n",
    "\n",
    "service = client.services.get('aca5guvj22d6rezn7965tphc7')\n",
    "\n",
    "print(service.attrs)\n"
   ]
  },
  {
   "cell_type": "code",
   "execution_count": 59,
   "metadata": {},
   "outputs": [
    {
     "name": "stdout",
     "output_type": "stream",
     "text": [
      "{'ID': 'oz2is5tzqdbrfct61w6bkroek', 'Version': {'Index': 1711}, 'CreatedAt': '2023-06-07T11:20:40.16807238Z', 'UpdatedAt': '2023-06-07T11:20:40.16807238Z', 'Spec': {'Name': 'confident_solomon', 'Labels': {}, 'TaskTemplate': {'ContainerSpec': {'Image': '127.0.0.1:3500/videoserverapp', 'Env': ['TRANSPORT_METHOD=GRPC'], 'Mounts': [{'Type': 'volume', 'Source': 'demo_nfsvolume', 'Target': '/video', 'ReadOnly': True}], 'Isolation': 'default'}, 'Placement': {'Constraints': ['node.id==3sy2t6skhgpcle5c94sou3tj0']}, 'ForceUpdate': 0, 'Runtime': 'container'}, 'Mode': {'Replicated': {'Replicas': 1}}}, 'Endpoint': {'Spec': {}}}\n"
     ]
    }
   ],
   "source": [
    "from docker.types import Privileges\n",
    "\n",
    "service = client.services.create(image='127.0.0.1:3500/videoserverapp',\n",
    "                                 mounts=[\"demo_nfsvolume:/video:ro\"],\n",
    "                                 env=[\"TRANSPORT_METHOD=GRPC\"],\n",
    "                                constraints=[\"node.id==3sy2t6skhgpcle5c94sou3tj0\"])\n",
    "print(service.attrs)"
   ]
  },
  {
   "cell_type": "code",
   "execution_count": 55,
   "metadata": {},
   "outputs": [],
   "source": [
    "constraints = [\"node.id==3sy2t6skhgpcle5c94sou3tj0\"]\n",
    "\n",
    "# Define the service specifications\n",
    "service_spec = {\n",
    "    \"image\": \"127.0.0.1:3500/videoserverapp\",\n",
    "    \"name\": \"test\",\n",
    "    \n",
    "    \"constraints\": constraints,\n",
    "    # other service configurations...\n",
    "}\n",
    "\n",
    "# Create the Docker service\n",
    "service = client.services.create(**service_spec)"
   ]
  },
  {
   "cell_type": "code",
   "execution_count": 45,
   "metadata": {},
   "outputs": [
    {
     "name": "stdout",
     "output_type": "stream",
     "text": [
      "{'ID': 'r6fallldn6ebxwpva6qgq3wc2', 'Version': {'Index': 955}, 'CreatedAt': '2023-06-07T10:11:21.687848624Z', 'UpdatedAt': '2023-06-07T10:11:21.687848624Z', 'Spec': {'Name': 'test', 'Labels': {}, 'TaskTemplate': {'ContainerSpec': {'Image': '127.0.0.1:3500/videoserverapp', 'Isolation': 'default'}, 'Placement': {'Constraints': ['node.id==3sy2t6skhgpcle5c94sou3tj0'], 'MaxReplicas': 1}, 'ForceUpdate': 0, 'Runtime': 'container'}, 'Mode': {'Replicated': {'Replicas': 1}}}, 'Endpoint': {'Spec': {}}}\n"
     ]
    }
   ],
   "source": [
    "print(service.attrs)"
   ]
  },
  {
   "cell_type": "code",
   "execution_count": 32,
   "metadata": {},
   "outputs": [],
   "source": [
    "service = client.services.create(image='ubuntu',\n",
    "                                 command='',\n",
    "                                networks=['cat', ],\n",
    "                                constraints=[\"node.id==mzbx5xtkze2aqi0zjt7gpmm4e\",])"
   ]
  },
  {
   "cell_type": "code",
   "execution_count": 17,
   "metadata": {},
   "outputs": [
    {
     "name": "stdout",
     "output_type": "stream",
     "text": [
      "{'ID': 'jw8wjcr3t7ja1kxeh4mswkz0i', 'Version': {'Index': 1318}, 'CreatedAt': '2023-06-07T06:35:57.668033674Z', 'UpdatedAt': '2023-06-07T06:35:57.668033674Z', 'Spec': {'Name': 'blissful_dijkstra', 'Labels': {}, 'TaskTemplate': {'ContainerSpec': {'Image': '127.0.0.1:3500/videoserverapp', 'Env': ['/home/huy/pythonProject/videoStreaming/videoServerApp/video.env'], 'Mounts': [{'Type': 'volume', 'Source': 'nfsvolume', 'Target': '/video/'}], 'Isolation': 'default'}, 'Placement': {'Constraints': ['node.id == helusms5yiiqyk4elmni8ox4a']}, 'Networks': [{'Target': 'clckzqxi3cn7u7tflq1d49yxl'}], 'ForceUpdate': 0, 'Runtime': 'container'}, 'Mode': {'Replicated': {'Replicas': 1}}}, 'Endpoint': {'Spec': {}}}\n"
     ]
    }
   ],
   "source": [
    "print(service.attrs)"
   ]
  }
 ],
 "metadata": {
  "kernelspec": {
   "display_name": "Python 3",
   "language": "python",
   "name": "python3"
  },
  "language_info": {
   "codemirror_mode": {
    "name": "ipython",
    "version": 3
   },
   "file_extension": ".py",
   "mimetype": "text/x-python",
   "name": "python",
   "nbconvert_exporter": "python",
   "pygments_lexer": "ipython3",
   "version": "3.10.6"
  },
  "orig_nbformat": 4
 },
 "nbformat": 4,
 "nbformat_minor": 2
}
