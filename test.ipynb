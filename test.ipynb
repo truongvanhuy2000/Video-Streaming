{
 "cells": [
  {
   "cell_type": "code",
   "execution_count": 2,
   "metadata": {},
   "outputs": [
    {
     "name": "stdout",
     "output_type": "stream",
     "text": [
      "{'videoserver': {'image': '127.0.0.1:3500/videoserverapp', 'networks': ['cat'], 'env_file': ['videoServerApp/video.env'], 'privileged': True, 'volumes': [{'type': 'volume', 'source': 'nfsvolume', 'target': '/video/', 'volume': {'nocopy': True}}], 'deploy': {'mode': 'replicated', 'replicas': 1, 'placement': {'constraints': ['node.role == worker']}}}}\n",
      "<class 'list'>\n"
     ]
    }
   ],
   "source": [
    "import yaml\n",
    "from yaml import SafeLoader\n",
    "\n",
    "with open('/home/huy/pythonProject/videoStreaming/loadBalancerApp/loadBalancer/dockerClient/config/videoServer.yaml') as f:\n",
    "    config = yaml.load(f, Loader=SafeLoader)\n",
    "    print(config)\n",
    "videoServerConfig = config.get(\"videoserver\")\n",
    "network = videoServerConfig.get('networks')\n",
    "\n",
    "print(type(network))"
   ]
  },
  {
   "cell_type": "code",
   "execution_count": 22,
   "metadata": {},
   "outputs": [
    {
     "name": "stdout",
     "output_type": "stream",
     "text": [
      "{'ID': '3sy2t6skhgpcle5c94sou3tj0', 'Version': {'Index': 2440}, 'CreatedAt': '2023-06-07T09:20:15.680764308Z', 'UpdatedAt': '2023-06-08T04:40:58.371561084Z', 'Spec': {'Labels': {}, 'Role': 'worker', 'Availability': 'active'}, 'Description': {'Hostname': 'vm4', 'Platform': {'Architecture': 'x86_64', 'OS': 'linux'}, 'Resources': {'NanoCPUs': 1000000000, 'MemoryBytes': 2021679104}, 'Engine': {'EngineVersion': '24.0.2', 'Plugins': [{'Type': 'Log', 'Name': 'awslogs'}, {'Type': 'Log', 'Name': 'fluentd'}, {'Type': 'Log', 'Name': 'gcplogs'}, {'Type': 'Log', 'Name': 'gelf'}, {'Type': 'Log', 'Name': 'journald'}, {'Type': 'Log', 'Name': 'json-file'}, {'Type': 'Log', 'Name': 'local'}, {'Type': 'Log', 'Name': 'logentries'}, {'Type': 'Log', 'Name': 'splunk'}, {'Type': 'Log', 'Name': 'syslog'}, {'Type': 'Network', 'Name': 'bridge'}, {'Type': 'Network', 'Name': 'host'}, {'Type': 'Network', 'Name': 'ipvlan'}, {'Type': 'Network', 'Name': 'macvlan'}, {'Type': 'Network', 'Name': 'null'}, {'Type': 'Network', 'Name': 'overlay'}, {'Type': 'Volume', 'Name': 'local'}]}, 'TLSInfo': {'TrustRoot': '-----BEGIN CERTIFICATE-----\\nMIIBajCCARCgAwIBAgIUZsMGkFUyFTG+Zs2AabN5MlXrQa4wCgYIKoZIzj0EAwIw\\nEzERMA8GA1UEAxMIc3dhcm0tY2EwHhcNMjMwNjA3MDkxNTAwWhcNNDMwNjAyMDkx\\nNTAwWjATMREwDwYDVQQDEwhzd2FybS1jYTBZMBMGByqGSM49AgEGCCqGSM49AwEH\\nA0IABO/xUPxAb+KWJFqeJYs5HUOeASk+b1qwe+n70sdlNBtOPvSDTAGOsf+Kb8sx\\nwyUimsluDafSHikQU0DB+FJVv8SjQjBAMA4GA1UdDwEB/wQEAwIBBjAPBgNVHRMB\\nAf8EBTADAQH/MB0GA1UdDgQWBBQrXDmNnpaUmNgOP09dQmigYd4ZsDAKBggqhkjO\\nPQQDAgNIADBFAiEAoekPFN/TQoGtdChMW4GbPA26vpWz8sSkfb1fQluHdBoCIBfq\\ndMUJL1LTPJ6HQtRzLZfiqTU001/rtp0RkFG3msaA\\n-----END CERTIFICATE-----\\n', 'CertIssuerSubject': 'MBMxETAPBgNVBAMTCHN3YXJtLWNh', 'CertIssuerPublicKey': 'MFkwEwYHKoZIzj0CAQYIKoZIzj0DAQcDQgAE7/FQ/EBv4pYkWp4lizkdQ54BKT5vWrB76fvSx2U0G04+9INMAY6x/4pvyzHDJSKayW4Np9IeKRBTQMH4UlW/xA=='}}, 'Status': {'State': 'ready', 'Addr': '192.168.56.23'}}\n",
      "{'ID': 'eycq2b6xque72ygmoebxrf0i5', 'Version': {'Index': 2439}, 'CreatedAt': '2023-06-07T09:20:07.039093413Z', 'UpdatedAt': '2023-06-08T04:40:58.3656251Z', 'Spec': {'Labels': {}, 'Role': 'worker', 'Availability': 'active'}, 'Description': {'Hostname': 'vm2', 'Platform': {'Architecture': 'x86_64', 'OS': 'linux'}, 'Resources': {'NanoCPUs': 1000000000, 'MemoryBytes': 2021679104}, 'Engine': {'EngineVersion': '24.0.2', 'Plugins': [{'Type': 'Log', 'Name': 'awslogs'}, {'Type': 'Log', 'Name': 'fluentd'}, {'Type': 'Log', 'Name': 'gcplogs'}, {'Type': 'Log', 'Name': 'gelf'}, {'Type': 'Log', 'Name': 'journald'}, {'Type': 'Log', 'Name': 'json-file'}, {'Type': 'Log', 'Name': 'local'}, {'Type': 'Log', 'Name': 'logentries'}, {'Type': 'Log', 'Name': 'splunk'}, {'Type': 'Log', 'Name': 'syslog'}, {'Type': 'Network', 'Name': 'bridge'}, {'Type': 'Network', 'Name': 'host'}, {'Type': 'Network', 'Name': 'ipvlan'}, {'Type': 'Network', 'Name': 'macvlan'}, {'Type': 'Network', 'Name': 'null'}, {'Type': 'Network', 'Name': 'overlay'}, {'Type': 'Volume', 'Name': 'local'}]}, 'TLSInfo': {'TrustRoot': '-----BEGIN CERTIFICATE-----\\nMIIBajCCARCgAwIBAgIUZsMGkFUyFTG+Zs2AabN5MlXrQa4wCgYIKoZIzj0EAwIw\\nEzERMA8GA1UEAxMIc3dhcm0tY2EwHhcNMjMwNjA3MDkxNTAwWhcNNDMwNjAyMDkx\\nNTAwWjATMREwDwYDVQQDEwhzd2FybS1jYTBZMBMGByqGSM49AgEGCCqGSM49AwEH\\nA0IABO/xUPxAb+KWJFqeJYs5HUOeASk+b1qwe+n70sdlNBtOPvSDTAGOsf+Kb8sx\\nwyUimsluDafSHikQU0DB+FJVv8SjQjBAMA4GA1UdDwEB/wQEAwIBBjAPBgNVHRMB\\nAf8EBTADAQH/MB0GA1UdDgQWBBQrXDmNnpaUmNgOP09dQmigYd4ZsDAKBggqhkjO\\nPQQDAgNIADBFAiEAoekPFN/TQoGtdChMW4GbPA26vpWz8sSkfb1fQluHdBoCIBfq\\ndMUJL1LTPJ6HQtRzLZfiqTU001/rtp0RkFG3msaA\\n-----END CERTIFICATE-----\\n', 'CertIssuerSubject': 'MBMxETAPBgNVBAMTCHN3YXJtLWNh', 'CertIssuerPublicKey': 'MFkwEwYHKoZIzj0CAQYIKoZIzj0DAQcDQgAE7/FQ/EBv4pYkWp4lizkdQ54BKT5vWrB76fvSx2U0G04+9INMAY6x/4pvyzHDJSKayW4Np9IeKRBTQMH4UlW/xA=='}}, 'Status': {'State': 'ready', 'Addr': '192.168.56.21'}}\n",
      "{'ID': 'tfzvcht8iwxcj8oge2smatofm', 'Version': {'Index': 2441}, 'CreatedAt': '2023-06-07T09:20:11.734446755Z', 'UpdatedAt': '2023-06-08T04:40:58.37431955Z', 'Spec': {'Labels': {}, 'Role': 'worker', 'Availability': 'active'}, 'Description': {'Hostname': 'vm3', 'Platform': {'Architecture': 'x86_64', 'OS': 'linux'}, 'Resources': {'NanoCPUs': 1000000000, 'MemoryBytes': 2021679104}, 'Engine': {'EngineVersion': '24.0.2', 'Plugins': [{'Type': 'Log', 'Name': 'awslogs'}, {'Type': 'Log', 'Name': 'fluentd'}, {'Type': 'Log', 'Name': 'gcplogs'}, {'Type': 'Log', 'Name': 'gelf'}, {'Type': 'Log', 'Name': 'journald'}, {'Type': 'Log', 'Name': 'json-file'}, {'Type': 'Log', 'Name': 'local'}, {'Type': 'Log', 'Name': 'logentries'}, {'Type': 'Log', 'Name': 'splunk'}, {'Type': 'Log', 'Name': 'syslog'}, {'Type': 'Network', 'Name': 'bridge'}, {'Type': 'Network', 'Name': 'host'}, {'Type': 'Network', 'Name': 'ipvlan'}, {'Type': 'Network', 'Name': 'macvlan'}, {'Type': 'Network', 'Name': 'null'}, {'Type': 'Network', 'Name': 'overlay'}, {'Type': 'Volume', 'Name': 'local'}]}, 'TLSInfo': {'TrustRoot': '-----BEGIN CERTIFICATE-----\\nMIIBajCCARCgAwIBAgIUZsMGkFUyFTG+Zs2AabN5MlXrQa4wCgYIKoZIzj0EAwIw\\nEzERMA8GA1UEAxMIc3dhcm0tY2EwHhcNMjMwNjA3MDkxNTAwWhcNNDMwNjAyMDkx\\nNTAwWjATMREwDwYDVQQDEwhzd2FybS1jYTBZMBMGByqGSM49AgEGCCqGSM49AwEH\\nA0IABO/xUPxAb+KWJFqeJYs5HUOeASk+b1qwe+n70sdlNBtOPvSDTAGOsf+Kb8sx\\nwyUimsluDafSHikQU0DB+FJVv8SjQjBAMA4GA1UdDwEB/wQEAwIBBjAPBgNVHRMB\\nAf8EBTADAQH/MB0GA1UdDgQWBBQrXDmNnpaUmNgOP09dQmigYd4ZsDAKBggqhkjO\\nPQQDAgNIADBFAiEAoekPFN/TQoGtdChMW4GbPA26vpWz8sSkfb1fQluHdBoCIBfq\\ndMUJL1LTPJ6HQtRzLZfiqTU001/rtp0RkFG3msaA\\n-----END CERTIFICATE-----\\n', 'CertIssuerSubject': 'MBMxETAPBgNVBAMTCHN3YXJtLWNh', 'CertIssuerPublicKey': 'MFkwEwYHKoZIzj0CAQYIKoZIzj0DAQcDQgAE7/FQ/EBv4pYkWp4lizkdQ54BKT5vWrB76fvSx2U0G04+9INMAY6x/4pvyzHDJSKayW4Np9IeKRBTQMH4UlW/xA=='}}, 'Status': {'State': 'ready', 'Addr': '192.168.56.22'}}\n"
     ]
    }
   ],
   "source": [
    "import docker\n",
    "\n",
    "client = docker.DockerClient(base_url='192.168.56.20:2375')\n",
    "\n",
    "nodeList = client.nodes.list(filters={'role': 'worker'})\n",
    "\n",
    "for node in nodeList:\n",
    "    print(node.attrs)\n"
   ]
  },
  {
   "cell_type": "code",
   "execution_count": 11,
   "metadata": {},
   "outputs": [
    {
     "name": "stdout",
     "output_type": "stream",
     "text": [
      "{'ID': 'vw9466ppgd32raynurd3let86', 'Version': {'Index': 1834}, 'CreatedAt': '2023-06-08T02:24:34.390375589Z', 'UpdatedAt': '2023-06-08T02:24:34.399547741Z', 'Spec': {'Name': 'admiring_jemison', 'Labels': {}, 'TaskTemplate': {'ContainerSpec': {'Image': '127.0.0.1:3500/videoserverapp', 'Env': ['TRANSPORT_METHOD=GRPC'], 'Mounts': [{'Type': 'volume', 'Source': 'nfsvolume', 'Target': '/video', 'ReadOnly': True}], 'Isolation': 'default'}, 'Placement': {'Constraints': ['node.id==3sy2t6skhgpcle5c94sou3tj0']}, 'Networks': [{'Target': '034y39h5led5vkryahpw440sl'}], 'ForceUpdate': 0, 'Runtime': 'container'}, 'Mode': {'Replicated': {'Replicas': 1}}}, 'Endpoint': {'Spec': {}, 'VirtualIPs': [{'NetworkID': '034y39h5led5vkryahpw440sl', 'Addr': '10.0.5.18/24'}]}}\n"
     ]
    }
   ],
   "source": [
    "import docker\n",
    "\n",
    "client = docker.DockerClient(base_url='192.168.56.20:2375')\n",
    "\n",
    "service = client.services.get('vw9466ppgd32raynurd3let86')\n",
    "\n",
    "print(service.attrs)\n"
   ]
  },
  {
   "cell_type": "code",
   "execution_count": 47,
   "metadata": {},
   "outputs": [
    {
     "name": "stderr",
     "output_type": "stream",
     "text": [
      "DEBUG:root:dau ma maasdasdasdy\n"
     ]
    }
   ],
   "source": [
    "import logging\n",
    "import sys\n",
    "\n",
    "_LOGGER = logging.getLogger()\n",
    "\n",
    "_LOGGER.setLevel(logging.DEBUG)\n",
    "\n",
    "_LOGGER.debug(\"dau ma maasdasdasdy\")"
   ]
  },
  {
   "cell_type": "code",
   "execution_count": 21,
   "metadata": {},
   "outputs": [
    {
     "name": "stdout",
     "output_type": "stream",
     "text": [
      "Service Name: demo_videoserver1\n",
      "Running Tasks: 1\n",
      "Desired Tasks: 1\n",
      "---------------------------\n",
      "Service Name: demo_videoserver4\n",
      "Running Tasks: 1\n",
      "Desired Tasks: 1\n",
      "---------------------------\n",
      "Service Name: demo_loadbalancer\n",
      "Running Tasks: 1\n",
      "Desired Tasks: 1\n",
      "---------------------------\n",
      "Service Name: demo_videoserver2\n",
      "Running Tasks: 1\n",
      "Desired Tasks: 1\n",
      "---------------------------\n",
      "Service Name: demo_webserver\n",
      "Running Tasks: 1\n",
      "Desired Tasks: 1\n",
      "---------------------------\n",
      "Service Name: demo_videoserver3\n",
      "Running Tasks: 1\n",
      "Desired Tasks: 1\n",
      "---------------------------\n"
     ]
    }
   ],
   "source": [
    "services = client.services.list(status=True)\n",
    "\n",
    "for service in services:\n",
    "    print(\"Service Name:\", service.name)\n",
    "    \n",
    "    tasks = service.tasks()\n",
    "    running_tasks = [task for task in tasks if task['Status']['State'] == 'running']\n",
    "    \n",
    "    print(\"Running Tasks:\", len(running_tasks))\n",
    "    print(\"Desired Tasks:\", service.attrs['Spec']['Mode']['Replicated']['Replicas'])\n",
    "    print(\"---------------------------\")\n"
   ]
  },
  {
   "cell_type": "code",
   "execution_count": 16,
   "metadata": {},
   "outputs": [],
   "source": [
    "from docker.types import Privileges\n",
    "\n",
    "service = client.services.create(image='127.0.0.1:3500/videoserverapp',\n",
    "                                 mounts=[\"nfsvolume:/video/:ro\"],\n",
    "                                 env=[\"TRANSPORT_METHOD=GRPC\"],\n",
    "                                constraints=[\"node.id==3sy2t6skhgpcle5c94sou3tj0\"],\n",
    "                                networks=['cat'])"
   ]
  },
  {
   "cell_type": "code",
   "execution_count": null,
   "metadata": {},
   "outputs": [],
   "source": []
  },
  {
   "cell_type": "code",
   "execution_count": 14,
   "metadata": {},
   "outputs": [
    {
     "name": "stdout",
     "output_type": "stream",
     "text": [
      "great_pare\n"
     ]
    }
   ],
   "source": [
    "service = client.services.get(service.id)\n",
    "\n",
    "print(service.name)"
   ]
  },
  {
   "cell_type": "code",
   "execution_count": 18,
   "metadata": {},
   "outputs": [
    {
     "name": "stdout",
     "output_type": "stream",
     "text": [
      "<class 'dict'>\n",
      "{'dauma': 'dmm', 'no': 'shit'}\n",
      "shit\n"
     ]
    }
   ],
   "source": [
    "mydict = {}\n",
    "\n",
    "print(type(mydict))\n",
    "\n",
    "mydict['dauma'] = 'dmm'\n",
    "mydict['no'] = 'shit'\n",
    "print(mydict)\n",
    "print(mydict['no'])"
   ]
  },
  {
   "cell_type": "code",
   "execution_count": 49,
   "metadata": {},
   "outputs": [
    {
     "ename": "KeyError",
     "evalue": "'dssaads'",
     "output_type": "error",
     "traceback": [
      "\u001b[0;31m---------------------------------------------------------------------------\u001b[0m",
      "\u001b[0;31mKeyError\u001b[0m                                  Traceback (most recent call last)",
      "Cell \u001b[0;32mIn[49], line 7\u001b[0m\n\u001b[1;32m      1\u001b[0m car \u001b[39m=\u001b[39m {\n\u001b[1;32m      2\u001b[0m   \u001b[39m\"\u001b[39m\u001b[39mbrand\u001b[39m\u001b[39m\"\u001b[39m: \u001b[39m\"\u001b[39m\u001b[39mFord\u001b[39m\u001b[39m\"\u001b[39m,\n\u001b[1;32m      3\u001b[0m   \u001b[39m\"\u001b[39m\u001b[39mmodel\u001b[39m\u001b[39m\"\u001b[39m: \u001b[39m\"\u001b[39m\u001b[39mMustang\u001b[39m\u001b[39m\"\u001b[39m,\n\u001b[1;32m      4\u001b[0m   \u001b[39m\"\u001b[39m\u001b[39myear\u001b[39m\u001b[39m\"\u001b[39m: \u001b[39m1964\u001b[39m\n\u001b[1;32m      5\u001b[0m }\n\u001b[0;32m----> 7\u001b[0m car[\u001b[39m'\u001b[39;49m\u001b[39mdssaads\u001b[39;49m\u001b[39m'\u001b[39;49m]\n\u001b[1;32m      9\u001b[0m \u001b[39mprint\u001b[39m(car)\n",
      "\u001b[0;31mKeyError\u001b[0m: 'dssaads'"
     ]
    }
   ],
   "source": [
    "car = {\n",
    "  \"brand\": \"Ford\",\n",
    "  \"model\": \"Mustang\",\n",
    "  \"year\": 1964\n",
    "}\n",
    "\n",
    "car['dssaads']\n",
    "\n",
    "print(car)"
   ]
  },
  {
   "cell_type": "code",
   "execution_count": 55,
   "metadata": {},
   "outputs": [
    {
     "name": "stdout",
     "output_type": "stream",
     "text": [
      "saas\n",
      "dsasad\n",
      "dsaadsdasdsadas\n",
      "21321312\n",
      "saas\n",
      "dsasad\n"
     ]
    }
   ],
   "source": [
    "import itertools\n",
    "\n",
    "listTest = [\"saas\", \"dsasad\", \"dsaadsdasdsadas\", \"21321312\"]\n",
    "\n",
    "myit = itertools.cycle(listTest)\n",
    "\n",
    "print(next(myit))\n",
    "print(next(myit))\n",
    "print(next(myit))\n",
    "print(next(myit))\n",
    "print(next(myit))\n",
    "print(next(myit))"
   ]
  },
  {
   "cell_type": "code",
   "execution_count": null,
   "metadata": {},
   "outputs": [],
   "source": [
    "import logging\n",
    "import sys\n",
    "\n",
    "_LOGGER = logging.getLogger(__name__)\n",
    "\n",
    "_LOGGER.setLevel(logging.INFO)\n",
    "\n",
    "_LOGGER.info(\"dau ma may\")"
   ]
  }
 ],
 "metadata": {
  "kernelspec": {
   "display_name": "Python 3",
   "language": "python",
   "name": "python3"
  },
  "language_info": {
   "codemirror_mode": {
    "name": "ipython",
    "version": 3
   },
   "file_extension": ".py",
   "mimetype": "text/x-python",
   "name": "python",
   "nbconvert_exporter": "python",
   "pygments_lexer": "ipython3",
   "version": "3.10.6"
  },
  "orig_nbformat": 4
 },
 "nbformat": 4,
 "nbformat_minor": 2
}
